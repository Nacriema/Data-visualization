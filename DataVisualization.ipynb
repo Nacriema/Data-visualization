{
 "cells": [
  {
   "cell_type": "markdown",
   "metadata": {},
   "source": [
    "# Data visualization"
   ]
  },
  {
   "cell_type": "markdown",
   "metadata": {},
   "source": [
    "Đôi khi phân tích số học không dễ hiểu được. Trong phần này, ta có một số phương tháp mô phỏng dữ liệu và các kết quả. Hình ảnh là dạng nhanh nhất để mô phỏng dữ liệu. Trong phần này, ta sẽ được giới thiệu một vài cách khác nhau để biểu diễn dữ liệu. Bên cạnh những đồ thì được liệt kê bên dưới, còn nhiều dạng nữa cần phải thực hiện khi đối mặt với dữ liệu."
   ]
  },
  {
   "cell_type": "markdown",
   "metadata": {},
   "source": [
    "## Bar chart\n",
    "\n",
    "Để biểu diễn các giá trị 25, 5, 150, 100 vào đồ thị, ta sẽ lưu chúng dưới dạng mảng và sau đó pass nó vào trong hàm **bar**. Các cột trong đồ thị biểu diễn biên độ trên trục y."
   ]
  },
  {
   "cell_type": "code",
   "execution_count": 3,
   "metadata": {},
   "outputs": [],
   "source": [
    "import matplotlib.pyplot as plt"
   ]
  },
  {
   "cell_type": "code",
   "execution_count": 4,
   "metadata": {
    "scrolled": false
   },
   "outputs": [
    {
     "data": {
      "image/png": "[encoded data removed]",
      "text/plain": [
       "<Figure size 432x288 with 1 Axes>"
      ]
     },
     "metadata": {
      "needs_background": "light"
     },
     "output_type": "display_data"
    }
   ],
   "source": [
    "data = [25., 5., 150., 100.]\n",
    "x_values = range(len(data))\n",
    "plt.bar(x_values, data)\n",
    "plt.show()"
   ]
  },
  {
   "cell_type": "markdown",
   "metadata": {},
   "source": [
    "\n",
    "x_values lưu trữ mảng các giá trị của hàm range(len(data)) do đó là mảng [0, 1, 2, 3]. Và do đó, mảng x_values dùng để xác định các điểm cần vẽ trên trục x. \n",
    "\n",
    "Bề rộng của thanh bar có thể được thay đổi bằng cách thêm tham số width vào trong hàm **bar**:"
   ]
  },
  {
   "cell_type": "code",
   "execution_count": 5,
   "metadata": {
    "scrolled": false
   },
   "outputs": [
    {
     "data": {
      "text/plain": [
       "<BarContainer object of 4 artists>"
      ]
     },
     "execution_count": 5,
     "metadata": {},
     "output_type": "execute_result"
    },
    {
     "data": {
      "image/png": "[encoded data removed]",
      "text/plain": [
       "<Figure size 432x288 with 1 Axes>"
      ]
     },
     "metadata": {
      "needs_background": "light"
     },
     "output_type": "display_data"
    }
   ],
   "source": [
    "plt.bar(x_values, data, width=1)"
   ]
  },
  {
   "cell_type": "markdown",
   "metadata": {},
   "source": [
    "Tuy nhiên cách biểu diễn bề rộng như vậy không rõ ràng bởi vì giữa các cột không có sự phân cách."
   ]
  },
  {
   "cell_type": "markdown",
   "metadata": {},
   "source": [
    "## Multiple bar charts \n",
    "\n",
    "Khi biểu diễn dữ liệu, đôi khi cần so sánh giữa các cột với nhau trong cùng một tiêu chí của hai hoặc nhiều đối tượng. Ta có thể thực hiện điều này bằng **Multiple bar charts**\n",
    "\n"
   ]
  },
  {
   "cell_type": "code",
   "execution_count": 7,
   "metadata": {},
   "outputs": [
    {
     "data": {
      "image/png": "[encoded data removed]",
      "text/plain": [
       "<Figure size 432x288 with 1 Axes>"
      ]
     },
     "metadata": {
      "needs_background": "light"
     },
     "output_type": "display_data"
    }
   ],
   "source": [
    "data = [[8., 57., 22., 10.],\n",
    "       [16., 7., 32., 40.],\n",
    "       ]\n",
    "import numpy as np \n",
    "x_values = np.arange(4)\n",
    "plt.bar(x_values + 0.00, data[0], color='r', width=0.30)\n",
    "plt.bar(x_values + 0.30, data[1], color='y', width=0.30)\n",
    "plt.show()"
   ]
  },
  {
   "cell_type": "markdown",
   "metadata": {},
   "source": [
    "Giá trị trên trục y cho batch đầu của **data** là [8., 57., 22., 10.] Batch thứ 2 là [16., 7., 32., 40]. Khi vẽ các cột ra, thì cột 8 và 16 xuất hiện tại cùng một vị trí. \n",
    "\n",
    "Do đó x_values=np.arange(4) sẽ tạo mảng với giá trị [0, 1, 2, 3]. Batch đầu của dữ liệu sẽ đc vẽ tại vị trí x_values + 0.30. Do đó, các giá trị x sẽ đc vẽ tại 0.00, 1.00, 2.00 và 3.00. Batch thứ 2 của x_values sẽ được vẽ tại 0.30, 1.30, 2.30 và 3.30."
   ]
  },
  {
   "cell_type": "markdown",
   "metadata": {},
   "source": [
    "## Box plot\n",
    "\n",
    "**Box plot** được dùng để mô tả trung bình **median value** và các giá trị cao thấp của phân phối. Nó còn được gọi là **box and whisker plot**.\n",
    "\n",
    "Ta sẽ mô phỏng một box plot đơn giản. Đầu tiên tạo 50 số theo luật phân phối chuẩn. Sau đó chúng được pass vào trong hàm plt.boxxplot(data)"
   ]
  },
  {
   "cell_type": "code",
   "execution_count": 10,
   "metadata": {},
   "outputs": [
    {
     "data": {
      "image/png": "[encoded data removed]",
      "text/plain": [
       "<Figure size 432x288 with 1 Axes>"
      ]
     },
     "metadata": {
      "needs_background": "light"
     },
     "output_type": "display_data"
    }
   ],
   "source": [
    "import numpy as np\n",
    "import matplotlib.pyplot as plt\n",
    "\n",
    "\n",
    "data = np.random.randn(50)\n",
    "plt.boxplot(data)\n",
    "plt.show()"
   ]
  },
  {
   "cell_type": "markdown",
   "metadata": {},
   "source": [
    "Chú thích cho hình vẽ: Một box bao gồm một hộp, có ý nghĩa đo lường sự phân tán; đường màu đỏ đại diện cho trung vị **median** của tập dữ liệu đó. Theo code: ta dùng np.random.randn() để tạo một tập dữ liệu tuân theo luật phân phối chuẩn (phân phối **Gausian**) với **means** = **median** = **mode** = 0 và **Standard deviation** (độ lệch chuẩn là 1). Những gì chúng ta thấy trong hình minh họa rõ cho điều đó.\n",
    "\n",
    "Box plot hữu ích khi cho phép ta dễ dàng xác định các ngoại lệ (**outlier**) trong tập dữ liệu, cũng như là phát hiện một tập dữ liệu có thể bị sai lệch.\n",
    "\n",
    "**Chú thích thêm: Theo [Sklearn np.random.randn()](https://docs.scipy.org/doc/numpy-1.15.1/reference/generated/numpy.random.randn.html)** ta có thể tạo một mẫu với phân phối xác suất gauss: $N$ ($\\mu$, $\\sigma^2$)\n"
   ]
  },
  {
   "cell_type": "code",
   "execution_count": 3,
   "metadata": {},
   "outputs": [
    {
     "data": {
      "image/png": "[encoded data removed]",
      "text/plain": [
       "<Figure size 432x288 with 1 Axes>"
      ]
     },
     "metadata": {
      "needs_background": "light"
     },
     "output_type": "display_data"
    }
   ],
   "source": [
    "import numpy as np\n",
    "import matplotlib.pyplot as plt \n",
    "\n",
    "sigma = 3\n",
    "mu = 15\n",
    "data2 = sigma * np.random.randn(100) + mu\n",
    "\n",
    "plt.boxplot(data2)\n",
    "plt.show()"
   ]
  },
  {
   "cell_type": "markdown",
   "metadata": {},
   "source": [
    "## Pie chart\n",
    "\n",
    "Đồ thị pie chart mô tả dữ liệu dưới dạng các phần của một chiếc bánh hình tròn. Mỗi điểm dữ liệu được mô tả dưới dạng một **sector** của đường tròn và tổng của chúng là 360 degrees. Đồ thị dạng này dùng để thể hiện dữ liệu phân loại **categorical data** "
   ]
  },
  {
   "cell_type": "code",
   "execution_count": 4,
   "metadata": {},
   "outputs": [
    {
     "data": {
      "image/png": "[encoded data removed]",
      "text/plain": [
       "<Figure size 432x288 with 1 Axes>"
      ]
     },
     "metadata": {},
     "output_type": "display_data"
    }
   ],
   "source": [
    "import matplotlib.pyplot as plt\n",
    "\n",
    "data = [500, 200, 250]\n",
    "labels = ['Agriculture', 'Aide', 'News']\n",
    "plt.pie(data, labels=labels, autopct='%1.1f%%')\n",
    "plt.show()"
   ]
  },
  {
   "cell_type": "markdown",
   "metadata": {},
   "source": [
    "## Bubble chart \n",
    "\n",
    "Một biến thể khác của **Scatter plot** là **Bubble chart**. Trong đồ thị điểm, ta chỉ cần biểu diễn tọa độ x và y của dữ liệu. **Bubble chart** thêm một chiều dữ liệu nữa biểu diễn kích thước của điểm. Ví dụ như chiều ni có thể biểu diễn kích thước thị trường hoặc là lợi tức: "
   ]
  },
  {
   "cell_type": "code",
   "execution_count": 5,
   "metadata": {},
   "outputs": [
    {
     "data": {
      "image/png": "[encoded data removed]",
      "text/plain": [
       "<Figure size 432x288 with 1 Axes>"
      ]
     },
     "metadata": {
      "needs_background": "light"
     },
     "output_type": "display_data"
    }
   ],
   "source": [
    "import numpy as np \n",
    "import matplotlib.pyplot as plt\n",
    "\n",
    "n = 10\n",
    "x = np.random.rand(n)\n",
    "y = np.random.rand(n)\n",
    "\n",
    "colors = np.random.rand(n)\n",
    "area = np.pi * (60*np.random.rand(n))**2\n",
    "plt.scatter(x, y, s=area, c=colors, alpha=0.5)\n",
    "plt.show()"
   ]
  },
  {
   "cell_type": "markdown",
   "metadata": {},
   "source": [
    "Với n cho trước, ta tạo ra n biến trong x, y một cách random theo chuẩn Gaussian. Số lượng màu cũng đc tạo ngẫu nhiên với n màu khác nhau để biểu diễn. Kích thước của các Bubble cũng được tạo ngẫu nhiên."
   ]
  },
  {
   "cell_type": "markdown",
   "metadata": {},
   "source": [
    "## Summary\n",
    "\n",
    "Trong phần này, ta đã được học một vài kỹ thuật biểu diễn quan trọng, như là charting hay plotting dữ liệu đặc. "
   ]
  },
  {
   "cell_type": "code",
   "execution_count": null,
   "metadata": {},
   "outputs": [],
   "source": []
  }
 ],
 "metadata": {
  "kernelspec": {
   "display_name": "env3",
   "language": "python",
   "name": "env3"
  },
  "language_info": {
   "codemirror_mode": {
    "name": "ipython",
    "version": 3
   },
   "file_extension": ".py",
   "mimetype": "text/x-python",
   "name": "python",
   "nbconvert_exporter": "python",
   "pygments_lexer": "ipython3",
   "version": "3.6.9"
  }
 },
 "nbformat": 4,
 "nbformat_minor": 2
}
